{
 "cells": [
  {
   "cell_type": "markdown",
   "id": "ae51a28f",
   "metadata": {},
   "source": [
    "# T Test\n"
   ]
  },
  {
   "cell_type": "markdown",
   "id": "d9ac82fc",
   "metadata": {},
   "source": [
    "### Aim : To perform hypothesis testing using T test."
   ]
  },
  {
   "cell_type": "code",
   "execution_count": 2,
   "id": "cc4fffe0",
   "metadata": {},
   "outputs": [],
   "source": [
    "# Name: Yash S Dudhe\n",
    "# Class: 3rd year \n",
    "# Sec: A\n",
    "# Roll No. : 24"
   ]
  },
  {
   "cell_type": "markdown",
   "id": "2782d207",
   "metadata": {},
   "source": [
    "T Test A t-test is a type of inferential statistic which is used to determine if there is a significant difference between the means of two groups which may be related in certain features"
   ]
  },
  {
   "cell_type": "code",
   "execution_count": 3,
   "id": "6dd30728",
   "metadata": {},
   "outputs": [],
   "source": [
    "ages=[10,20,35,50,28,40,55,18,16,55,30,25,43,18,30,28,14,24,16,17,32,35,26,27,65,18,43,23,21,20,19,70]"
   ]
  },
  {
   "cell_type": "code",
   "execution_count": 4,
   "id": "e05f695d",
   "metadata": {},
   "outputs": [
    {
     "data": {
      "text/plain": [
       "32"
      ]
     },
     "execution_count": 4,
     "metadata": {},
     "output_type": "execute_result"
    }
   ],
   "source": [
    "len(ages)"
   ]
  },
  {
   "cell_type": "code",
   "execution_count": 5,
   "id": "8d019799",
   "metadata": {},
   "outputs": [
    {
     "name": "stdout",
     "output_type": "stream",
     "text": [
      "30.34375\n"
     ]
    }
   ],
   "source": [
    "import numpy as np\n",
    "ages_mean=np.mean(ages)\n",
    "print(ages_mean)"
   ]
  },
  {
   "cell_type": "code",
   "execution_count": 6,
   "id": "975f62ae",
   "metadata": {},
   "outputs": [],
   "source": [
    "sample_size=10\n",
    "age_sample=np.random.choice(ages,sample_size)"
   ]
  },
  {
   "cell_type": "code",
   "execution_count": 7,
   "id": "dc1da488",
   "metadata": {},
   "outputs": [
    {
     "data": {
      "text/plain": [
       "array([18, 14, 70, 21, 50, 18, 18, 18, 50, 55])"
      ]
     },
     "execution_count": 7,
     "metadata": {},
     "output_type": "execute_result"
    }
   ],
   "source": [
    "age_sample"
   ]
  },
  {
   "cell_type": "code",
   "execution_count": 8,
   "id": "542929b3",
   "metadata": {},
   "outputs": [],
   "source": [
    "from scipy.stats import ttest_1samp"
   ]
  },
  {
   "cell_type": "code",
   "execution_count": 9,
   "id": "ebffa919",
   "metadata": {},
   "outputs": [],
   "source": [
    "ttest,p_value=ttest_1samp(age_sample,30)"
   ]
  },
  {
   "cell_type": "code",
   "execution_count": 10,
   "id": "3eea8bca",
   "metadata": {},
   "outputs": [
    {
     "name": "stdout",
     "output_type": "stream",
     "text": [
      "0.6357349574999751\n"
     ]
    }
   ],
   "source": [
    "print(p_value)"
   ]
  },
  {
   "cell_type": "code",
   "execution_count": 11,
   "id": "8903091e",
   "metadata": {},
   "outputs": [
    {
     "name": "stdout",
     "output_type": "stream",
     "text": [
      "we are accepting null hypothesis\n"
     ]
    }
   ],
   "source": [
    "if p_value < 0.05:    # alpha value is 0.05 or 5%\n",
    "    print(\" we are rejecting null hypothesis\")\n",
    "else:\n",
    "    print(\"we are accepting null hypothesis\")"
   ]
  }
 ],
 "metadata": {
  "kernelspec": {
   "display_name": "Python 3",
   "language": "python",
   "name": "python3"
  },
  "language_info": {
   "codemirror_mode": {
    "name": "ipython",
    "version": 3
   },
   "file_extension": ".py",
   "mimetype": "text/x-python",
   "name": "python",
   "nbconvert_exporter": "python",
   "pygments_lexer": "ipython3",
   "version": "3.8.8"
  }
 },
 "nbformat": 4,
 "nbformat_minor": 5
}
